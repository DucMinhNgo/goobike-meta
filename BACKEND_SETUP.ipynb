{
 "cells": [
  {
   "cell_type": "markdown",
   "metadata": {},
   "source": [
    "# 5 Design Pattern\n",
    "Adapter, builder, proxy, decorator, facade\n",
    "https://200lab.io/blog/series-23-classic-design-pattern/"
   ]
  },
  {
   "cell_type": "markdown",
   "metadata": {},
   "source": [
    "# Adapter\n",
    "https://viblo.asia/p/adapter-design-pattern-tro-thu-dac-luc-cua-developers-Az45bqYQlxY\n",
    "Adapter (wrapper): Structural Pattern\n",
    "- Là thiết kế chuyển đổi khuân mẫu Interface của một lớp thành một khuân mẫu khác mà phía client mong muốn. Cho phép hai khuân mẫu không liên quan làm việc cùng nhau.\n",
    "\n",
    "Tại sao sử dụng: Ví dụ hệ thống đang làm việc với dữ liệu XML nhưng muốn tích hợp bên thứ 3 để cải thiện lại hệ thống. vì thế cần phải có Adapter để chuyển đổi hai kiểu dữ liệu mà không làm thay đổi code.\n"
   ]
  },
  {
   "cell_type": "markdown",
   "metadata": {},
   "source": [
    "# Builder\n",
    "https://techmaster.vn/posts/36713/builder-pattern-trong-golang\n",
    "Builder: Creational Design Patterns: Mẫu thiết kế cho phép lập trình viên tạo ra những đối tượng phức tạp chỉ cần thông quá các câu lệnh đơn giản để tác động nên các thuộc tính của nó.\n",
    "\n",
    "- Một số trường hợp nên sử dụng builder.\n",
    "+ Các class chứa quá nhiều hàm khởi tạo hoặc các hàm khởi tạo quá cồng kềnh hoặc phức tạp.\n",
    "\n",
    "# Ví dụ: Tạo 2 hai loại điện thoại là samsung và iphone gồm 4 thuộc tính: Camera, Dual Sim Slot, Torch, Colour Display Screen."
   ]
  },
  {
   "cell_type": "markdown",
   "metadata": {},
   "source": [
    "# Proxy"
   ]
  },
  {
   "cell_type": "markdown",
   "metadata": {},
   "source": [
    "# Decorator\n",
    "https://www.henrydu.com/2022/01/05/golang-decorator-pattern/#:~:text=The%20decorator%20pattern%20allows%20behavior,objects%20from%20the%20same%20class."
   ]
  },
  {
   "cell_type": "markdown",
   "metadata": {},
   "source": [
    "# Facade\n",
    "https://refactoring.guru/design-patterns/facade/go/example"
   ]
  },
  {
   "cell_type": "markdown",
   "metadata": {},
   "source": [
    "# API\n",
    "Restful api with Gin\n",
    "https://github.com/gin-gonic/gin\n",
    "\n",
    "# GORM\n",
    "https://gorm.io/index.html\n",
    "\n",
    "# Mysql\n",
    "go get -u gorm.io/driver/mysql\n",
    "go get -u github.com/joho/godotenv\n",
    "\n",
    "# Add environment\n",
    "https://techmaster.vn/posts/36832/su-dung-environment-variables-trong-go\n",
    "\n",
    "# Install from go.mod\n",
    "go mod download"
   ]
  },
  {
   "cell_type": "markdown",
   "metadata": {},
   "source": [
    "# Auto import package\n",
    "https://stackoverflow.com/questions/64088072/why-does-vs-code-not-auto-import-packages-using-go\n",
    "![Alt text](image.png)"
   ]
  },
  {
   "cell_type": "markdown",
   "metadata": {},
   "source": [
    "# Clean architecture\n",
    "![Alt text](image-1.png)"
   ]
  },
  {
   "cell_type": "markdown",
   "metadata": {},
   "source": [
    "Huge Function (Function lớn).\n",
    "https://200lab.io/blog/clean-architecture-uu-nhuoc-va-cach-dung-hop-ly/"
   ]
  },
  {
   "cell_type": "markdown",
   "metadata": {},
   "source": [
    "model (entity)\n",
    "business (biz)\n",
    "transfort (handler)\n"
   ]
  },
  {
   "cell_type": "markdown",
   "metadata": {},
   "source": [
    "# Thứ tự code:\n",
    "- storage -> business -> transport"
   ]
  }
 ],
 "metadata": {
  "language_info": {
   "name": "python"
  },
  "orig_nbformat": 4
 },
 "nbformat": 4,
 "nbformat_minor": 2
}
